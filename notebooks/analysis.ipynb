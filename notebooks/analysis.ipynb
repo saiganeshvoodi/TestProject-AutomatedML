{
 "cells": [
  {
   "cell_type": "markdown",
   "id": "21c2c907",
   "metadata": {},
   "source": [
    "# Iris Classification"
   ]
  },
  {
   "cell_type": "code",
   "execution_count": null,
   "id": "fb7376a1",
   "metadata": {},
   "outputs": [],
   "source": [
    "import pandas as pd\n",
    "from sklearn.ensemble import RandomForestClassifier"
   ]
  },
  {
   "cell_type": "code",
   "execution_count": null,
   "id": "3d725535",
   "metadata": {},
   "outputs": [],
   "source": [
    "df = pd.read_csv('../data/sample_data.csv')\n",
    "df.head()"
   ]
  },
  {
   "cell_type": "code",
   "execution_count": null,
   "id": "d86da670",
   "metadata": {},
   "outputs": [],
   "source": [
    "# Train model here..."
   ]
  }
 ],
 "metadata": {},
 "nbformat": 4,
 "nbformat_minor": 5
}
